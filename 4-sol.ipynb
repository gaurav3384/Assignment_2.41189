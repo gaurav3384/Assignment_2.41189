{
 "cells": [
  {
   "cell_type": "code",
   "execution_count": 8,
   "metadata": {},
   "outputs": [
    {
     "name": "stdout",
     "output_type": "stream",
     "text": [
      "['ab', 'abc']\n"
     ]
    }
   ],
   "source": [
    "# filter words longer than n\n",
    "def filter_long_words(wordlist, n):\n",
    "    return filter(lambda x:True if(len(x)>n) else False ,wordlist)\n",
    "seq=['a','ab','abc']\n",
    "print(list(filter_long_words(seq,1)))"
   ]
  },
  {
   "cell_type": "code",
   "execution_count": 14,
   "metadata": {},
   "outputs": [
    {
     "name": "stdout",
     "output_type": "stream",
     "text": [
      "Enter side 1: 2\n",
      "Enter side 2: 2\n",
      "Enter side 3: 3\n"
     ]
    },
    {
     "data": {
      "text/plain": [
       "1.984313483298443"
      ]
     },
     "execution_count": 14,
     "metadata": {},
     "output_type": "execute_result"
    }
   ],
   "source": [
    "class Parent:\n",
    "    \n",
    "    def __init__(self):\n",
    "        self.a = int(input(\"Enter side 1: \"))\n",
    "        self.b = int(input(\"Enter side 2: \"))\n",
    "        self.c = int(input(\"Enter side 3: \"))\n",
    "        \n",
    "class SubClass(Parent):\n",
    "    def __init__(self, *args, **kwargs):\n",
    "        super(SubClass, self).__init__(*args, **kwargs)\n",
    "    \n",
    "    def tri_area(self):\n",
    "        s = (self.a+self.b+self.c)/2\n",
    "        area = (s*(s-self.a)*(s-self.b)*(s-self.c)) ** 0.5\n",
    "        return area\n",
    "    \n",
    "triangle = SubClass()  \n",
    "triangle.tri_area()"
   ]
  }
 ],
 "metadata": {
  "kernelspec": {
   "display_name": "Python 3",
   "language": "python",
   "name": "python3"
  },
  "language_info": {
   "codemirror_mode": {
    "name": "ipython",
    "version": 3
   },
   "file_extension": ".py",
   "mimetype": "text/x-python",
   "name": "python",
   "nbconvert_exporter": "python",
   "pygments_lexer": "ipython3",
   "version": "3.6.4"
  }
 },
 "nbformat": 4,
 "nbformat_minor": 2
}
